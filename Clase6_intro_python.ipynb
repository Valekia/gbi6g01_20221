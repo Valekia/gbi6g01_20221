{
  "nbformat": 4,
  "nbformat_minor": 0,
  "metadata": {
    "colab": {
      "name": "Untitled0.ipynb",
      "provenance": [],
      "authorship_tag": "ABX9TyP9E5bAq58AivC2sFZGQxiI",
      "include_colab_link": true
    },
    "kernelspec": {
      "name": "python3",
      "display_name": "Python 3"
    },
    "language_info": {
      "name": "python"
    }
  },
  "cells": [
    {
      "cell_type": "markdown",
      "metadata": {
        "id": "view-in-github",
        "colab_type": "text"
      },
      "source": [
        "<a href=\"https://colab.research.google.com/github/Valekia/gbi6g01_20221/blob/main/Clase6_intro_python.ipynb\" target=\"_parent\"><img src=\"https://colab.research.google.com/assets/colab-badge.svg\" alt=\"Open In Colab\"/></a>"
      ]
    },
    {
      "cell_type": "markdown",
      "source": [
        "# Bioinformatica\n",
        "## Introduccion a Python\n",
        "Clase 6: Introduccion a python\n",
        "\n",
        "1. Historia de Python\n",
        "2. Tipos de datos\n",
        "3. Operaciones con numeros\n",
        "4. Operaciones con texto \n",
        "La historia de Python se puede leer en la pagina web (https://www.python.org/doc/)"
      ],
      "metadata": {
        "id": "0F0krK_oytkB"
      }
    },
    {
      "cell_type": "markdown",
      "source": [
        "## 2. Tipos de Datos\n",
        "- Numéricos enteros (inter,int), decimales (double), complejos (complex) \n",
        "-Lógicos: verdadero (TRUE,T) Falso (FALSE,F)\n",
        "-Texto: cadena de caracteres \"siempre entre comillas\""
      ],
      "metadata": {
        "id": "Et3Nh7ao0W9u"
      }
    },
    {
      "cell_type": "code",
      "source": [
        "gen1_r = 1.5\n",
        "gen1_h = 1.7\n",
        "dif_gen1 = gen1_r - gen1_h\n",
        "ratio_gen1 = gen1_r / gen1_h"
      ],
      "metadata": {
        "id": "dTC4S1Gg14nX"
      },
      "execution_count": 65,
      "outputs": []
    },
    {
      "cell_type": "code",
      "source": [
        "print(\"gen1_h:\", gen1_h)\n",
        "print(\"gen1_r:\", gen1_r)\n",
        "print(\"dif_gen1:\", dif_gen1)\n",
        "print(\"dif_gen1:\", ratio_gen1)"
      ],
      "metadata": {
        "colab": {
          "base_uri": "https://localhost:8080/"
        },
        "id": "2Gaavrg253eb",
        "outputId": "150777f2-6276-42db-92ab-5164d0100871"
      },
      "execution_count": 66,
      "outputs": [
        {
          "output_type": "stream",
          "name": "stdout",
          "text": [
            "gen1_h: 1.7\n",
            "gen1_r: 1.5\n",
            "dif_gen1: -0.19999999999999996\n",
            "dif_gen1: 0.8823529411764706\n"
          ]
        }
      ]
    },
    {
      "cell_type": "markdown",
      "source": [
        "Operaciones con texto"
      ],
      "metadata": {
        "id": "WCUq8exA79jJ"
      }
    },
    {
      "cell_type": "code",
      "source": [
        "saludo = \"hola con todos, que bueno que hoy no hay examen\"\n",
        "saludo.capitalize()\n"
      ],
      "metadata": {
        "colab": {
          "base_uri": "https://localhost:8080/",
          "height": 35
        },
        "id": "KoerwFJL8UXM",
        "outputId": "176484eb-090c-47c0-c21f-8d9f4271d512"
      },
      "execution_count": 82,
      "outputs": [
        {
          "output_type": "execute_result",
          "data": {
            "text/plain": [
              "'Hola con todos, que bueno que hoy no hay examen'"
            ],
            "application/vnd.google.colaboratory.intrinsic+json": {
              "type": "string"
            }
          },
          "metadata": {},
          "execution_count": 82
        }
      ]
    },
    {
      "cell_type": "code",
      "source": [
        "len(saludo)"
      ],
      "metadata": {
        "colab": {
          "base_uri": "https://localhost:8080/"
        },
        "id": "qRx6X_1965EI",
        "outputId": "37f62f26-2d45-4ab2-a469-e38f722379ab"
      },
      "execution_count": 68,
      "outputs": [
        {
          "output_type": "execute_result",
          "data": {
            "text/plain": [
              "37"
            ]
          },
          "metadata": {},
          "execution_count": 68
        }
      ]
    },
    {
      "cell_type": "code",
      "execution_count": 69,
      "metadata": {
        "colab": {
          "base_uri": "https://localhost:8080/"
        },
        "id": "H9mePRCJxueR",
        "outputId": "dbeababc-f8b2-4bac-b66c-f9f2cc395dc0"
      },
      "outputs": [
        {
          "output_type": "stream",
          "name": "stdout",
          "text": [
            "Porcentaje de a:  8.108108108108109\n"
          ]
        }
      ],
      "source": [
        "#En este bloque se revisa el uso combinado de funciones\n",
        "total = len(saludo)\n",
        "char_a = saludo.count(\"a\")\n",
        "ratio_a= 100*char_a / total\n",
        "print(\"Porcentaje de a: \", ratio_a)\n"
      ]
    },
    {
      "cell_type": "code",
      "source": [
        "p53_11 = \"TTCCTGGNCTGTAGGTAGCGACTACAGTTAGGGGGCACCTAGCATTCAGGCCCTCATCCTCCTCCTTCCC\""
      ],
      "metadata": {
        "id": "d_kOv_7YBElB"
      },
      "execution_count": 70,
      "outputs": []
    },
    {
      "cell_type": "markdown",
      "source": [
        "Calcular el porcentaje de GC"
      ],
      "metadata": {
        "id": "LZ9YNyxvBPUX"
      }
    },
    {
      "cell_type": "code",
      "source": [
        ""
      ],
      "metadata": {
        "id": "I1-gaH00Bu4p"
      },
      "execution_count": 70,
      "outputs": []
    },
    {
      "cell_type": "code",
      "source": [
        "total = len(p53_11)\n",
        "char_GC = p53_11.count(\"GC\")\n",
        "ratio_GC= 100*char_GC / total\n",
        "print(\"Porcentaje de GC: \", ratio_GC)\n",
        "\n",
        "total = len(p53_11)\n",
        "char_G = p53_11.count(\"G\")\n",
        "ratio_G= 100*char_G / total\n",
        "print(\"Porcentaje de G: \", ratio_G)\n",
        "\n",
        "total = len(p53_11)\n",
        "char_C = p53_11.count(\"C\")\n",
        "ratio_C= 100*char_C / total\n",
        "print(\"Porcentaje de C: \", ratio_C)\n",
        "\n",
        "suma_GC= ratio_C + ratio_G\n",
        "print(\"Porcentaje GC:\", suma_GC)"
      ],
      "metadata": {
        "colab": {
          "base_uri": "https://localhost:8080/"
        },
        "outputId": "5330d485-fbf4-4ba0-dbaa-365c7dcb413f",
        "id": "uCpFCEw9EG-M"
      },
      "execution_count": 71,
      "outputs": [
        {
          "output_type": "stream",
          "name": "stdout",
          "text": [
            "Porcentaje de GC:  5.714285714285714\n",
            "Porcentaje de G:  22.857142857142858\n",
            "Porcentaje de C:  34.285714285714285\n",
            "Porcentaje GC: 57.14285714285714\n"
          ]
        }
      ]
    },
    {
      "cell_type": "code",
      "source": [
        "\n",
        "#total = len(p53_11)\n",
        "#char_GC = saludo.count(\"GC\")\n",
        "#ratio_GC= 100*char_GC / total\n",
        "#print(\"Porcentaje de GC: \", ratio_GC)\n",
        "percent_GC = 100*(p53_11.count(\"GC\") + p53_11.count(\"GC\"))//len(p53_11)\n",
        "print(\"Porcentaje GC en P53_lineal:\", round(percent_GC, 3))"
      ],
      "metadata": {
        "colab": {
          "base_uri": "https://localhost:8080/"
        },
        "id": "WzJZWOaaBU1Y",
        "outputId": "173e3528-ab1f-4b15-a93b-e8d54b532f92"
      },
      "execution_count": 72,
      "outputs": [
        {
          "output_type": "stream",
          "name": "stdout",
          "text": [
            "Porcentaje GC en P53_lineal: 11\n"
          ]
        }
      ]
    },
    {
      "cell_type": "markdown",
      "source": [
        "Doble check "
      ],
      "metadata": {
        "id": "U5pEfFGIMBtq"
      }
    },
    {
      "cell_type": "code",
      "source": [
        "# subconjunto\n",
        "print(p53_11)\n",
        "fi= p53_11.find(\"TAC\")\n",
        "ff1 = p53_11.find(\"ATT\")\n",
        "ff2 = p53_11.find(\"ATC\")\n",
        "ff3 = p53_11.find(\"ACT\")\n",
        "print(\"forward inicio:\", fi)\n",
        "print(\"forward final 1:\", ff1)\n",
        "print(\"forward final 2:\", ff2)\n",
        "print(\"forward final 3:\", ff3)\n",
        "#p53_11.find(\"TAC\")\n",
        "#forward inicio\n",
        "#p53_11.find(\"\")"
      ],
      "metadata": {
        "colab": {
          "base_uri": "https://localhost:8080/"
        },
        "id": "3iMxbexFMFHA",
        "outputId": "678e3aae-03b8-40d6-ceb8-b181a3824204"
      },
      "execution_count": 73,
      "outputs": [
        {
          "output_type": "stream",
          "name": "stdout",
          "text": [
            "TTCCTGGNCTGTAGGTAGCGACTACAGTTAGGGGGCACCTAGCATTCAGGCCCTCATCCTCCTCCTTCCC\n",
            "forward inicio: 22\n",
            "forward final 1: 43\n",
            "forward final 2: 55\n",
            "forward final 3: 20\n"
          ]
        }
      ]
    },
    {
      "cell_type": "code",
      "source": [
        "p53_11[3:6]\n",
        "p53_11[0:3]"
      ],
      "metadata": {
        "colab": {
          "base_uri": "https://localhost:8080/",
          "height": 35
        },
        "id": "CoCgH2sDOyZe",
        "outputId": "ce832c78-f6be-4fb7-d661-97e19f3b93a7"
      },
      "execution_count": 76,
      "outputs": [
        {
          "output_type": "execute_result",
          "data": {
            "text/plain": [
              "'TTC'"
            ],
            "application/vnd.google.colaboratory.intrinsic+json": {
              "type": "string"
            }
          },
          "metadata": {},
          "execution_count": 76
        }
      ]
    },
    {
      "cell_type": "code",
      "source": [
        "mRNA_f1 = p53_11[fi:ff1+3]\n",
        "mRNA_f1\n",
        "# 3 porque quiero que me incluya a el codon final"
      ],
      "metadata": {
        "colab": {
          "base_uri": "https://localhost:8080/",
          "height": 35
        },
        "id": "t3-BpfdOSOTf",
        "outputId": "20c4fd8f-90fc-47bf-88b6-cb8b2c367c9f"
      },
      "execution_count": 91,
      "outputs": [
        {
          "output_type": "execute_result",
          "data": {
            "text/plain": [
              "'TACAGTTAGGGGGCACCTAGCATT'"
            ],
            "application/vnd.google.colaboratory.intrinsic+json": {
              "type": "string"
            }
          },
          "metadata": {},
          "execution_count": 91
        }
      ]
    },
    {
      "cell_type": "code",
      "source": [
        "saludo= \"hola con todxs, que bueno que hoy no hay examen\"\n",
        "print(saludo)\n",
        "saludo.replace(\"x\",\"e\")\n"
      ],
      "metadata": {
        "colab": {
          "base_uri": "https://localhost:8080/",
          "height": 53
        },
        "id": "TmwOk_yqSUtw",
        "outputId": "92fa9e14-9aaf-4025-8232-64ccc4b49066"
      },
      "execution_count": 94,
      "outputs": [
        {
          "output_type": "stream",
          "name": "stdout",
          "text": [
            "hola con todxs, que bueno que hoy no hay examen\n"
          ]
        },
        {
          "output_type": "execute_result",
          "data": {
            "text/plain": [
              "'hola con todes, que bueno que hoy no hay eeamen'"
            ],
            "application/vnd.google.colaboratory.intrinsic+json": {
              "type": "string"
            }
          },
          "metadata": {},
          "execution_count": 94
        }
      ]
    },
    {
      "cell_type": "code",
      "source": [
        "p53_a = p53_11.replace(\"A\",\"t\")\n",
        "p53_t= p53_a.replace(\"T\",\"a\")\n",
        "p53_g= p53_t.replace(\"G\",\"c\")\n",
        "p53_c= p53_g.replace(\"C\",\"g\")\n",
        "p53_c\n",
        "p53_complementario = p53_c.upper()\n",
        "p53_complementario\n"
      ],
      "metadata": {
        "colab": {
          "base_uri": "https://localhost:8080/",
          "height": 35
        },
        "id": "F37HjGX9S082",
        "outputId": "150ba51b-ebe3-4b39-b906-a7e52f87bf48"
      },
      "execution_count": 122,
      "outputs": [
        {
          "output_type": "execute_result",
          "data": {
            "text/plain": [
              "'AAGGACCNGACATCCATCGCTGATGTCAATCCCCCGTGGATCGTAAGTCCGGGAGTAGGAGGAGGAAGGG'"
            ],
            "application/vnd.google.colaboratory.intrinsic+json": {
              "type": "string"
            }
          },
          "metadata": {},
          "execution_count": 122
        }
      ]
    },
    {
      "cell_type": "code",
      "source": [
        "p53_11c = p53_c.upper()\n",
        "print(p53_11)\n",
        "print(p53_11c)"
      ],
      "metadata": {
        "colab": {
          "base_uri": "https://localhost:8080/"
        },
        "id": "E1N33wkqXPMb",
        "outputId": "78a6209f-9c21-40f6-c600-2de730aeae58"
      },
      "execution_count": 123,
      "outputs": [
        {
          "output_type": "stream",
          "name": "stdout",
          "text": [
            "TTCCTGGNCTGTAGGTAGCGACTACAGTTAGGGGGCACCTAGCATTCAGGCCCTCATCCTCCTCCTTCCC\n",
            "AAGGACCNGACATCCATCGCTGATGTCAATCCCCCGTGGATCGTAAGTCCGGGAGTAGGAGGAGGAAGGG\n"
          ]
        }
      ]
    },
    {
      "cell_type": "code",
      "source": [
        "print(p53_11)\n",
        "print(p53_c)"
      ],
      "metadata": {
        "colab": {
          "base_uri": "https://localhost:8080/"
        },
        "id": "nLGHVS2aWU-2",
        "outputId": "d0f6ce30-c2ff-43ff-af6f-3a0bf30b9c9f"
      },
      "execution_count": 124,
      "outputs": [
        {
          "output_type": "stream",
          "name": "stdout",
          "text": [
            "TTCCTGGNCTGTAGGTAGCGACTACAGTTAGGGGGCACCTAGCATTCAGGCCCTCATCCTCCTCCTTCCC\n",
            "aaggaccNgacatccatcgctgatgtcaatcccccgtggatcgtaagtccgggagtaggaggaggaaggg\n"
          ]
        }
      ]
    },
    {
      "cell_type": "code",
      "source": [
        "p53_11c_r =p53_11c[::-1]\n",
        "print(\"cadena normal:\", p53_11)\n",
        "print(\"cadena coplementaria:\",p53_11c)\n",
        "print(\"cadena reverse:\",p53_11c_r)"
      ],
      "metadata": {
        "colab": {
          "base_uri": "https://localhost:8080/"
        },
        "id": "VeOjant7U3Ts",
        "outputId": "3af253b2-2ba5-4422-f657-eb16b9b5f2e0"
      },
      "execution_count": 125,
      "outputs": [
        {
          "output_type": "stream",
          "name": "stdout",
          "text": [
            "cadena normal: TTCCTGGNCTGTAGGTAGCGACTACAGTTAGGGGGCACCTAGCATTCAGGCCCTCATCCTCCTCCTTCCC\n",
            "cadena coplementaria: AAGGACCNGACATCCATCGCTGATGTCAATCCCCCGTGGATCGTAAGTCCGGGAGTAGGAGGAGGAAGGG\n",
            "cadena reverse: GGGAAGGAGGAGGATGAGGGCCTGAATGCTAGGTGCCCCCTAACTGTAGTCGCTACCTACAGNCCAGGAA\n"
          ]
        }
      ]
    },
    {
      "cell_type": "code",
      "source": [
        "fi = p53_11c_r.find(\"TAC\")\n",
        "ff1 = p53_11c_r.find(\"ATT\")\n",
        "ff2 = p53_11c_r.find(\"ATC\")\n",
        "ff3 = p53_11c_r.find(\"ACT\")\n",
        "print(fi)\n",
        "print(ff1)\n",
        "print(ff2)\n",
        "print(ff3)"
      ],
      "metadata": {
        "colab": {
          "base_uri": "https://localhost:8080/"
        },
        "id": "ROREClCUX1RS",
        "outputId": "79702ffd-7c81-4b71-d160-810641ecf07c"
      },
      "execution_count": 127,
      "outputs": [
        {
          "output_type": "stream",
          "name": "stdout",
          "text": [
            "53\n",
            "-1\n",
            "-1\n",
            "42\n"
          ]
        }
      ]
    }
  ]
}