{
  "nbformat": 4,
  "nbformat_minor": 0,
  "metadata": {
    "colab": {
      "name": "Untitled0.ipynb",
      "provenance": [],
      "collapsed_sections": [],
      "authorship_tag": "ABX9TyNXUFDE3JC2HDJUZQLb4nvW",
      "include_colab_link": true
    },
    "kernelspec": {
      "name": "python3",
      "display_name": "Python 3"
    },
    "language_info": {
      "name": "python"
    }
  },
  "cells": [
    {
      "cell_type": "markdown",
      "metadata": {
        "id": "view-in-github",
        "colab_type": "text"
      },
      "source": [
        "<a href=\"https://colab.research.google.com/github/Valekia/gbi6g01_20221/blob/main/Clase6_intro_python.ipynb\" target=\"_parent\"><img src=\"https://colab.research.google.com/assets/colab-badge.svg\" alt=\"Open In Colab\"/></a>"
      ]
    },
    {
      "cell_type": "markdown",
      "source": [
        "# Bioinformatica\n",
        "## Introduccion a Python\n",
        "Clase 6: Introduccion a python\n",
        "\n",
        "1. Historia de Python\n",
        "2. Tipos de datos\n",
        "3. Operaciones con numeros\n",
        "4. Operaciones con texto \n",
        "La historia de Python se puede leer en la pagina web (https://www.python.org/doc/)"
      ],
      "metadata": {
        "id": "0F0krK_oytkB"
      }
    },
    {
      "cell_type": "markdown",
      "source": [
        "## 2. Tipos de Datos\n",
        "- Numéricos enteros (inter,int), decimales (double), complejos (complex) \n",
        "-Lógicos: verdadero (TRUE,T) Falso (FALSE,F)\n",
        "-Texto: cadena de caracteres \"siempre entre comillas\""
      ],
      "metadata": {
        "id": "Et3Nh7ao0W9u"
      }
    },
    {
      "cell_type": "code",
      "source": [
        "gen1_r = 1.5\n",
        "gen1_h = 1.7\n",
        "dif_gen1 = gen1_r - gen1_h\n",
        "ratio_gen1 = gen1_r / gen1_h"
      ],
      "metadata": {
        "id": "dTC4S1Gg14nX"
      },
      "execution_count": 1,
      "outputs": []
    },
    {
      "cell_type": "code",
      "source": [
        "print(\"gen1_h:\", gen1_h)\n",
        "print(\"gen1_r:\", gen1_r)\n",
        "print(\"dif_gen1:\", dif_gen1)\n",
        "print(\"dif_gen1:\", ratio_gen1)"
      ],
      "metadata": {
        "colab": {
          "base_uri": "https://localhost:8080/"
        },
        "id": "2Gaavrg253eb",
        "outputId": "c0fcc134-7329-41a8-cd6e-59c8e54ead05"
      },
      "execution_count": 2,
      "outputs": [
        {
          "output_type": "stream",
          "name": "stdout",
          "text": [
            "gen1_h: 1.7\n",
            "gen1_r: 1.5\n",
            "dif_gen1: -0.19999999999999996\n",
            "dif_gen1: 0.8823529411764706\n"
          ]
        }
      ]
    },
    {
      "cell_type": "markdown",
      "source": [
        "Operaciones con texto"
      ],
      "metadata": {
        "id": "WCUq8exA79jJ"
      }
    },
    {
      "cell_type": "code",
      "source": [
        "saludo = \"hola con todos, que bueno que hoy no hay examen\"\n",
        "saludo.capitalize()\n"
      ],
      "metadata": {
        "colab": {
          "base_uri": "https://localhost:8080/",
          "height": 35
        },
        "id": "KoerwFJL8UXM",
        "outputId": "ef3a5a1b-ae33-44fc-ee45-989971e4feda"
      },
      "execution_count": 3,
      "outputs": [
        {
          "output_type": "execute_result",
          "data": {
            "text/plain": [
              "'Hola con todos, que bueno que hoy no hay examen'"
            ],
            "application/vnd.google.colaboratory.intrinsic+json": {
              "type": "string"
            }
          },
          "metadata": {},
          "execution_count": 3
        }
      ]
    },
    {
      "cell_type": "code",
      "source": [
        "len(saludo)"
      ],
      "metadata": {
        "colab": {
          "base_uri": "https://localhost:8080/"
        },
        "id": "qRx6X_1965EI",
        "outputId": "00429cae-1793-4761-f2c6-8acc7763d7b6"
      },
      "execution_count": 4,
      "outputs": [
        {
          "output_type": "execute_result",
          "data": {
            "text/plain": [
              "47"
            ]
          },
          "metadata": {},
          "execution_count": 4
        }
      ]
    },
    {
      "cell_type": "code",
      "execution_count": 5,
      "metadata": {
        "colab": {
          "base_uri": "https://localhost:8080/"
        },
        "id": "H9mePRCJxueR",
        "outputId": "394a4bae-2551-4b4d-c3c5-a43a4c9b54fc"
      },
      "outputs": [
        {
          "output_type": "stream",
          "name": "stdout",
          "text": [
            "Porcentaje de a:  6.382978723404255\n"
          ]
        }
      ],
      "source": [
        "#En este bloque se revisa el uso combinado de funciones\n",
        "total = len(saludo)\n",
        "char_a = saludo.count(\"a\")\n",
        "ratio_a= 100*char_a / total\n",
        "print(\"Porcentaje de a: \", ratio_a)\n"
      ]
    },
    {
      "cell_type": "code",
      "source": [
        "p53_11 = \"TTCCTGGNCTGTAGGTAGCGACTACAGTTAGGGGGCACCTAGCATTCAGGCCCTCATCCTCCTCCTTCCCAGCAGGGTGTCACGCTTCTCCGAAGACTGGATGACTGCCATGGAGGAGTCACAGTCGGATATCAGCCTCGAGCTCCCTCTGAGCCAGGAGACATTTTCAGGCTTATGGAAACTACTTCCTCCAGAAGATATCCTGCCATC\""
      ],
      "metadata": {
        "id": "d_kOv_7YBElB"
      },
      "execution_count": 6,
      "outputs": []
    },
    {
      "cell_type": "markdown",
      "source": [
        "Calcular el porcentaje de GC"
      ],
      "metadata": {
        "id": "LZ9YNyxvBPUX"
      }
    },
    {
      "cell_type": "code",
      "source": [
        "total = len(p53_11)\n",
        "char_GC = p53_11.count(\"GC\")\n",
        "ratio_GC= 100*char_GC / total\n",
        "print(\"Porcentaje de GC: \", ratio_GC)\n",
        "\n",
        "total = len(p53_11)\n",
        "char_G = p53_11.count(\"G\")\n",
        "ratio_G= 100*char_G / total\n",
        "print(\"Porcentaje de G: \", ratio_G)\n",
        "\n",
        "total = len(p53_11)\n",
        "char_C = p53_11.count(\"C\")\n",
        "ratio_C= 100*char_C / total\n",
        "print(\"Porcentaje de C: \", ratio_C)\n",
        "\n",
        "suma_GC= ratio_C + ratio_G\n",
        "print(\"Porcentaje GC:\", suma_GC)"
      ],
      "metadata": {
        "colab": {
          "base_uri": "https://localhost:8080/"
        },
        "outputId": "3dc72975-5f8b-4ddd-a369-35b03725ce13",
        "id": "uCpFCEw9EG-M"
      },
      "execution_count": 7,
      "outputs": [
        {
          "output_type": "stream",
          "name": "stdout",
          "text": [
            "Porcentaje de GC:  5.714285714285714\n",
            "Porcentaje de G:  24.285714285714285\n",
            "Porcentaje de C:  30.0\n",
            "Porcentaje GC: 54.285714285714285\n"
          ]
        }
      ]
    },
    {
      "cell_type": "code",
      "source": [
        "\n",
        "#total = len(p53_11)\n",
        "#char_GC = saludo.count(\"GC\")\n",
        "#ratio_GC= 100*char_GC / total\n",
        "#print(\"Porcentaje de GC: \", ratio_GC)\n",
        "percent_GC = 100*(p53_11.count(\"GC\") + p53_11.count(\"GC\"))//len(p53_11)\n",
        "print(\"Porcentaje GC en P53_lineal:\", round(percent_GC, 3))"
      ],
      "metadata": {
        "colab": {
          "base_uri": "https://localhost:8080/"
        },
        "id": "WzJZWOaaBU1Y",
        "outputId": "74dd82ba-db10-45b2-dba7-0934baee7a0f"
      },
      "execution_count": 8,
      "outputs": [
        {
          "output_type": "stream",
          "name": "stdout",
          "text": [
            "Porcentaje GC en P53_lineal: 11\n"
          ]
        }
      ]
    },
    {
      "cell_type": "markdown",
      "source": [
        "Doble check "
      ],
      "metadata": {
        "id": "U5pEfFGIMBtq"
      }
    },
    {
      "cell_type": "code",
      "source": [
        "# subconjunto\n",
        "print(p53_11)\n",
        "fi= p53_11.find(\"TAC\")\n",
        "ff1 = p53_11.find(\"ATT\")\n",
        "ff2 = p53_11.find(\"ATC\")\n",
        "ff3 = p53_11.find(\"ACT\")\n",
        "print(\"forward inicio:\", fi)\n",
        "print(\"forward final 1:\", ff1)\n",
        "print(\"forward final 2:\", ff2)\n",
        "print(\"forward final 3:\", ff3)\n",
        "#p53_11.find(\"TAC\")\n",
        "#forward inicio\n",
        "#p53_11.find(\"\")"
      ],
      "metadata": {
        "colab": {
          "base_uri": "https://localhost:8080/"
        },
        "id": "3iMxbexFMFHA",
        "outputId": "bba01bc5-9666-4ebf-8c30-f44441cddde5"
      },
      "execution_count": 9,
      "outputs": [
        {
          "output_type": "stream",
          "name": "stdout",
          "text": [
            "TTCCTGGNCTGTAGGTAGCGACTACAGTTAGGGGGCACCTAGCATTCAGGCCCTCATCCTCCTCCTTCCCAGCAGGGTGTCACGCTTCTCCGAAGACTGGATGACTGCCATGGAGGAGTCACAGTCGGATATCAGCCTCGAGCTCCCTCTGAGCCAGGAGACATTTTCAGGCTTATGGAAACTACTTCCTCCAGAAGATATCCTGCCATC\n",
            "forward inicio: 22\n",
            "forward final 1: 43\n",
            "forward final 2: 55\n",
            "forward final 3: 20\n"
          ]
        }
      ]
    },
    {
      "cell_type": "code",
      "source": [
        "p53_11[3:6]\n",
        "p53_11[0:3]"
      ],
      "metadata": {
        "colab": {
          "base_uri": "https://localhost:8080/",
          "height": 35
        },
        "id": "CoCgH2sDOyZe",
        "outputId": "302145cf-d389-496d-f2ee-b0973eb92a82"
      },
      "execution_count": 10,
      "outputs": [
        {
          "output_type": "execute_result",
          "data": {
            "text/plain": [
              "'TTC'"
            ],
            "application/vnd.google.colaboratory.intrinsic+json": {
              "type": "string"
            }
          },
          "metadata": {},
          "execution_count": 10
        }
      ]
    },
    {
      "cell_type": "code",
      "source": [
        "mRNA_f1 = p53_11[fi:ff1+3]\n",
        "mRNA_f1\n",
        "# 3 porque quiero que me incluya a el codon final"
      ],
      "metadata": {
        "colab": {
          "base_uri": "https://localhost:8080/",
          "height": 35
        },
        "id": "t3-BpfdOSOTf",
        "outputId": "2dd3edd5-368f-4023-dd09-fcb42b84fbdf"
      },
      "execution_count": 11,
      "outputs": [
        {
          "output_type": "execute_result",
          "data": {
            "text/plain": [
              "'TACAGTTAGGGGGCACCTAGCATT'"
            ],
            "application/vnd.google.colaboratory.intrinsic+json": {
              "type": "string"
            }
          },
          "metadata": {},
          "execution_count": 11
        }
      ]
    },
    {
      "cell_type": "code",
      "source": [
        "saludo= \"hola con todxs, que bueno que hoy no hay examen\"\n",
        "print(saludo)\n",
        "saludo.replace(\"x\",\"e\")\n"
      ],
      "metadata": {
        "colab": {
          "base_uri": "https://localhost:8080/",
          "height": 53
        },
        "id": "TmwOk_yqSUtw",
        "outputId": "a5185dc5-b261-4f74-864a-1b3c8f01ffe1"
      },
      "execution_count": 12,
      "outputs": [
        {
          "output_type": "stream",
          "name": "stdout",
          "text": [
            "hola con todxs, que bueno que hoy no hay examen\n"
          ]
        },
        {
          "output_type": "execute_result",
          "data": {
            "text/plain": [
              "'hola con todes, que bueno que hoy no hay eeamen'"
            ],
            "application/vnd.google.colaboratory.intrinsic+json": {
              "type": "string"
            }
          },
          "metadata": {},
          "execution_count": 12
        }
      ]
    },
    {
      "cell_type": "code",
      "source": [
        "p53_a = p53_11.replace(\"A\",\"t\")\n",
        "p53_t= p53_a.replace(\"T\",\"a\")\n",
        "p53_g= p53_t.replace(\"G\",\"c\")\n",
        "p53_c= p53_g.replace(\"C\",\"g\")\n",
        "p53_c\n",
        "p53_complementario = p53_c.upper()\n",
        "p53_complementario\n"
      ],
      "metadata": {
        "colab": {
          "base_uri": "https://localhost:8080/",
          "height": 53
        },
        "id": "F37HjGX9S082",
        "outputId": "71b3eb28-e2bb-4f14-fef9-ee3d96c7e23c"
      },
      "execution_count": 13,
      "outputs": [
        {
          "output_type": "execute_result",
          "data": {
            "text/plain": [
              "'AAGGACCNGACATCCATCGCTGATGTCAATCCCCCGTGGATCGTAAGTCCGGGAGTAGGAGGAGGAAGGGTCGTCCCACAGTGCGAAGAGGCTTCTGACCTACTGACGGTACCTCCTCAGTGTCAGCCTATAGTCGGAGCTCGAGGGAGACTCGGTCCTCTGTAAAAGTCCGAATACCTTTGATGAAGGAGGTCTTCTATAGGACGGTAG'"
            ],
            "application/vnd.google.colaboratory.intrinsic+json": {
              "type": "string"
            }
          },
          "metadata": {},
          "execution_count": 13
        }
      ]
    },
    {
      "cell_type": "code",
      "source": [
        "p53_11c = p53_c.upper()\n",
        "print(p53_11)\n",
        "print(p53_11c)"
      ],
      "metadata": {
        "colab": {
          "base_uri": "https://localhost:8080/"
        },
        "id": "E1N33wkqXPMb",
        "outputId": "db1de200-2061-4c41-fc89-5f6942e61389"
      },
      "execution_count": 14,
      "outputs": [
        {
          "output_type": "stream",
          "name": "stdout",
          "text": [
            "TTCCTGGNCTGTAGGTAGCGACTACAGTTAGGGGGCACCTAGCATTCAGGCCCTCATCCTCCTCCTTCCCAGCAGGGTGTCACGCTTCTCCGAAGACTGGATGACTGCCATGGAGGAGTCACAGTCGGATATCAGCCTCGAGCTCCCTCTGAGCCAGGAGACATTTTCAGGCTTATGGAAACTACTTCCTCCAGAAGATATCCTGCCATC\n",
            "AAGGACCNGACATCCATCGCTGATGTCAATCCCCCGTGGATCGTAAGTCCGGGAGTAGGAGGAGGAAGGGTCGTCCCACAGTGCGAAGAGGCTTCTGACCTACTGACGGTACCTCCTCAGTGTCAGCCTATAGTCGGAGCTCGAGGGAGACTCGGTCCTCTGTAAAAGTCCGAATACCTTTGATGAAGGAGGTCTTCTATAGGACGGTAG\n"
          ]
        }
      ]
    },
    {
      "cell_type": "code",
      "source": [
        "print(p53_11)\n",
        "print(p53_c)"
      ],
      "metadata": {
        "colab": {
          "base_uri": "https://localhost:8080/"
        },
        "id": "nLGHVS2aWU-2",
        "outputId": "f42dddf5-4c55-4cba-aef7-3672be41928c"
      },
      "execution_count": 15,
      "outputs": [
        {
          "output_type": "stream",
          "name": "stdout",
          "text": [
            "TTCCTGGNCTGTAGGTAGCGACTACAGTTAGGGGGCACCTAGCATTCAGGCCCTCATCCTCCTCCTTCCCAGCAGGGTGTCACGCTTCTCCGAAGACTGGATGACTGCCATGGAGGAGTCACAGTCGGATATCAGCCTCGAGCTCCCTCTGAGCCAGGAGACATTTTCAGGCTTATGGAAACTACTTCCTCCAGAAGATATCCTGCCATC\n",
            "aaggaccNgacatccatcgctgatgtcaatcccccgtggatcgtaagtccgggagtaggaggaggaagggtcgtcccacagtgcgaagaggcttctgacctactgacggtacctcctcagtgtcagcctatagtcggagctcgagggagactcggtcctctgtaaaagtccgaatacctttgatgaaggaggtcttctataggacggtag\n"
          ]
        }
      ]
    },
    {
      "cell_type": "code",
      "source": [
        "p53_11c_r =p53_11c[::-1]\n",
        "print(\"cadena normal:\", p53_11)\n",
        "print(\"cadena coplementaria:\",p53_11c)\n",
        "print(\"cadena reverse:\",p53_11c_r)"
      ],
      "metadata": {
        "colab": {
          "base_uri": "https://localhost:8080/"
        },
        "id": "VeOjant7U3Ts",
        "outputId": "408a79ed-739b-43c6-bc3d-09a7b35bd216"
      },
      "execution_count": 16,
      "outputs": [
        {
          "output_type": "stream",
          "name": "stdout",
          "text": [
            "cadena normal: TTCCTGGNCTGTAGGTAGCGACTACAGTTAGGGGGCACCTAGCATTCAGGCCCTCATCCTCCTCCTTCCCAGCAGGGTGTCACGCTTCTCCGAAGACTGGATGACTGCCATGGAGGAGTCACAGTCGGATATCAGCCTCGAGCTCCCTCTGAGCCAGGAGACATTTTCAGGCTTATGGAAACTACTTCCTCCAGAAGATATCCTGCCATC\n",
            "cadena coplementaria: AAGGACCNGACATCCATCGCTGATGTCAATCCCCCGTGGATCGTAAGTCCGGGAGTAGGAGGAGGAAGGGTCGTCCCACAGTGCGAAGAGGCTTCTGACCTACTGACGGTACCTCCTCAGTGTCAGCCTATAGTCGGAGCTCGAGGGAGACTCGGTCCTCTGTAAAAGTCCGAATACCTTTGATGAAGGAGGTCTTCTATAGGACGGTAG\n",
            "cadena reverse: GATGGCAGGATATCTTCTGGAGGAAGTAGTTTCCATAAGCCTGAAAATGTCTCCTGGCTCAGAGGGAGCTCGAGGCTGATATCCGACTGTGACTCCTCCATGGCAGTCATCCAGTCTTCGGAGAAGCGTGACACCCTGCTGGGAAGGAGGAGGATGAGGGCCTGAATGCTAGGTGCCCCCTAACTGTAGTCGCTACCTACAGNCCAGGAA\n"
          ]
        }
      ]
    },
    {
      "cell_type": "code",
      "source": [
        "fi = p53_11c_r.find(\"TAC\")\n",
        "ff1 = p53_11c_r.find(\"ATT\")\n",
        "ff2 = p53_11c_r.find(\"ATC\")\n",
        "ff3 = p53_11c_r.find(\"ACT\")\n",
        "print(fi)\n",
        "print(ff1)\n",
        "print(ff2)\n",
        "print(ff3)"
      ],
      "metadata": {
        "colab": {
          "base_uri": "https://localhost:8080/"
        },
        "id": "ROREClCUX1RS",
        "outputId": "ca0cc806-e4f0-48f8-a3b5-12ab69d041a1"
      },
      "execution_count": 17,
      "outputs": [
        {
          "output_type": "stream",
          "name": "stdout",
          "text": [
            "193\n",
            "-1\n",
            "11\n",
            "85\n"
          ]
        }
      ]
    },
    {
      "cell_type": "code",
      "source": [
        "ficr = p53_11c_r.find(\"TAC\") # Si se tiene\n",
        "ff1cr = p53_11c_r.find(\"ATT\") #Si se tiene\n",
        "ff2cr = p53_11c_r.find(\"ATC\")\n",
        "ff3cr = p53_11c_r.find(\"ACT\")\n",
        "mRNA_f1cr = p53_11c_r[ficr:ff1cr+3]\n",
        "mRNA_f1cr"
      ],
      "metadata": {
        "colab": {
          "base_uri": "https://localhost:8080/",
          "height": 35
        },
        "id": "H1xKxGesb4Ft",
        "outputId": "ee7d2a70-13b6-46f0-bc24-843dc75366c4"
      },
      "execution_count": 18,
      "outputs": [
        {
          "output_type": "execute_result",
          "data": {
            "text/plain": [
              "''"
            ],
            "application/vnd.google.colaboratory.intrinsic+json": {
              "type": "string"
            }
          },
          "metadata": {},
          "execution_count": 18
        }
      ]
    }
  ]
}